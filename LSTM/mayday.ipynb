{
 "cells": [
  {
   "cell_type": "markdown",
   "metadata": {},
   "source": [
    "### Step 1 下載和解析初始文字文件"
   ]
  },
  {
   "cell_type": "code",
   "execution_count": 14,
   "metadata": {},
   "outputs": [
    {
     "name": "stdout",
     "output_type": "stream",
     "text": [
      "Corpus length: 600893\n"
     ]
    }
   ],
   "source": [
    "import keras\n",
    "import numpy as np\n",
    "\n",
    "path = '*alllyric_3.txt'   # 檔案位置\n",
    "text = open(path, encoding='utf-8').read().lower()                # 讀取文本內容，並轉成小寫\n",
    "print('Corpus length:', len(text))  "
   ]
  },
  {
   "cell_type": "markdown",
   "metadata": {},
   "source": [
    "### Step 2 向量化字元序列"
   ]
  },
  {
   "cell_type": "code",
   "execution_count": 15,
   "metadata": {},
   "outputs": [
    {
     "name": "stdout",
     "output_type": "stream",
     "text": [      
     ]
    }
   ],
   "source": [
    "maxlen = 60     # 每次 (step) 從文本中萃取 60 個字元作為序列資料\n",
    "step = 3        # 每 3 個字元為一個 step 進行萃取 \n",
    "\n",
    "sentences = []  # 存放萃取出的序列資料\n",
    "next_chars = [] # 存放對應目標 (萃取出來的序列資料的後一個字元)\n",
    "\n",
    "# 萃取序列資料 \n",
    "for i in range(0, len(text) - maxlen, step):\n",
    "    sentences.append(text[i: i + maxlen])\n",
    "    next_chars.append(text[i + maxlen])\n",
    "print('Number of sequences:', len(sentences))   \n",
    "\n",
    "# 產生文本中的 \"唯一\" 字元串列 (文本轉成 set 將重複字元刪除)\n",
    "chars = sorted(list(set(text))) \n",
    "print('Unique characters:', len(chars)) # 文本共使用 57 種字元\n",
    "\n",
    "# 將各個字元對應到 \"chars\" 串列中的索引值成為字典 (dict) 格式。即 {'\\n': 0,' ': 1, '!': 2,…}\n",
    "char_indices = dict((char, chars.index(char)) for char in chars)\n",
    "\n",
    "# 將字元經 One-hot 編碼成二元陣列\n",
    "print('Vectorization...')\n",
    "x = np.zeros((len(sentences), maxlen, len(chars)), dtype=np.bool)\n",
    "y = np.zeros((len(sentences), len(chars)), dtype=np.bool)\n",
    "for i, sentence in enumerate(sentences):\n",
    "    for t, char in enumerate(sentence):\n",
    "        x[i, t, char_indices[char]] = 1\n",
    "    y[i, char_indices[next_chars[i]]] = 1\n",
    "print(x.shape)  \n",
    "print(y.shape)  "
   ]
  },
  {
   "cell_type": "markdown",
   "metadata": {},
   "source": [
    "### Step 3. 建立用於預測下一字元的模型"
   ]
  },
  {
   "cell_type": "code",
   "execution_count": 16,
   "metadata": {
    "collapsed": true
   },
   "outputs": [],
   "source": [
    "from keras import layers\n",
    "\n",
    "model = keras.models.Sequential()   # 建立序列式模型\n",
    "model.add(layers.LSTM(128, input_shape=(maxlen, len(chars))))\n",
    "model.add(layers.Dense(len(chars), activation='softmax'))\n",
    "\n",
    "print('model finished')"
   ]
  },
  {
   "cell_type": "markdown",
   "metadata": {},
   "source": [
    "### Step 4. 模型編譯設定"
   ]
  },
  {
   "cell_type": "code",
   "execution_count": 17,
   "metadata": {
    "collapsed": true
   },
   "outputs": [],
   "source": [
    "optimizer = keras.optimizers.RMSprop(lr=0.01)\n",
    "model.compile(loss='categorical_crossentropy', optimizer=optimizer)\n",
    "\n",
    "print('model setting finished')"
   ]
  },
  {
   "cell_type": "markdown",
   "metadata": {},
   "source": [
    "### Step 5. 建立從給定模型預測結果中取樣下一個字元的函數"
   ]
  },
  {
   "cell_type": "code",
   "execution_count": 18,
   "metadata": {
    "collapsed": true
   },
   "outputs": [],
   "source": [
    "def sample(preds, temperature=1.0):\n",
    "    preds = np.asarray(preds).astype('float64')\n",
    "    preds = np.log(preds) / temperature     # 重新加權計算 (熵)\n",
    "    exp_preds = np.exp(preds)               \n",
    "    preds = exp_preds / np.sum(exp_preds)   \n",
    "    probas = np.random.multinomial(1, preds, 1) # 丟入多項式分布中\n",
    "    return np.argmax(probas)"
   ]
  },
  {
   "cell_type": "markdown",
   "metadata": {},
   "source": [
    "### Step 6. 循環的文字生成"
   ]
  },
  {
   "cell_type": "code",
   "execution_count": 19,
   "metadata": {},
   "outputs": [
    {
     "name": "stdout",
     "output_type": "stream",
     "text": [      
     ]
    }    
   ],
   "source": [
    "import random\n",
    "import sys\n",
    "\n",
    "for epoch in range(1, 60):  # 共 60 個訓練週期 (次數)\n",
    "    print('epoch', epoch)\n",
    "    model.fit(x, y,         # 用萃取出來的 x, y 開始進行訓練\n",
    "              batch_size=128,\n",
    "              epochs=1)\n",
    "    # 隨機選擇文本中的某段 60 個字元\n",
    "    start_index = random.randint(0, len(text) - maxlen - 1)\n",
    "    generated_text = text[start_index: start_index + maxlen]\n",
    "    print('--- 隨機初始文字: \"' + generated_text + '\"')\n",
    "\n",
    "    # 嘗試使用一系列不同 temperature 生成文字\n",
    "    for temperature in [0.2, 0.5, 1.0, 1.2, 1.5]:\n",
    "        print('------ temperature:', temperature)\n",
    "        sys.stdout.write(generated_text)\n",
    "\n",
    "        # 每個 temperature 生成 400 個字元\n",
    "        for i in range(400):    \n",
    "            sampled = np.zeros((1, maxlen, len(chars)))\n",
    "            for t, char in enumerate(generated_text):\n",
    "                sampled[0, t, char_indices[char]] = 1.\n",
    "            preds = model.predict(sampled, verbose=0)[0]    # 產生字元機率分布\n",
    "            next_index = sample(preds, temperature) # 重新加權並取樣，回傳字元索引\n",
    "            next_char = chars[next_index]           # 確認新字元\n",
    "            generated_text += next_char             # 新字元加到文字的後方\n",
    "            generated_text = generated_text[1:]     # 重新取得含括新字元的文字繼續生成下一個字元\n",
    "\n",
    "            sys.stdout.write(next_char)\n",
    "            sys.stdout.flush()\n",
    "        print()"
   ]
  }
 ],
 "metadata": {
  "kernelspec": {
   "display_name": "Python 3",
   "language": "python",
   "name": "python3"
  },
  "language_info": {
   "codemirror_mode": {
    "name": "ipython",
    "version": 3
   },
   "file_extension": ".py",
   "mimetype": "text/x-python",
   "name": "python",
   "nbconvert_exporter": "python",
   "pygments_lexer": "ipython3",
   "version": "3.7.4"
  }
 },
 "nbformat": 4,
 "nbformat_minor": 2
}
